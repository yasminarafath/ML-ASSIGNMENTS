{
 "cells": [
  {
   "cell_type": "code",
   "execution_count": 1,
   "id": "b92c541f-69ab-4082-a281-6e56b1c10e17",
   "metadata": {},
   "outputs": [],
   "source": [
    "from sklearn.datasets import fetch_california_housing\n",
    "import pandas as pd\n",
    "\n",
    "# Load dataset\n",
    "california = fetch_california_housing()\n",
    "df = pd.DataFrame(california.data, columns=california.feature_names)\n",
    "df['MedHouseValue'] = california.target\n"
   ]
  },
  {
   "cell_type": "code",
   "execution_count": 2,
   "id": "8564eaed-a85c-4404-9b3a-bdbcd47f7450",
   "metadata": {},
   "outputs": [
    {
     "name": "stdout",
     "output_type": "stream",
     "text": [
      "MedInc           0\n",
      "HouseAge         0\n",
      "AveRooms         0\n",
      "AveBedrms        0\n",
      "Population       0\n",
      "AveOccup         0\n",
      "Latitude         0\n",
      "Longitude        0\n",
      "MedHouseValue    0\n",
      "dtype: int64\n"
     ]
    }
   ],
   "source": [
    "print(df.isnull().sum())\n",
    "# No missing values in this dataset\n"
   ]
  },
  {
   "cell_type": "code",
   "execution_count": 7,
   "id": "6b0ab825-7bc7-451b-821b-abea2fbb3f99",
   "metadata": {},
   "outputs": [],
   "source": [
    "from sklearn.preprocessing import StandardScaler\n",
    "\n",
    "scaler = StandardScaler()\n",
    "X_scaled = scaler.fit_transform(df.drop('MedHouseValue', axis=1))\n",
    "y = df['MedHouseValue']\n"
   ]
  },
  {
   "cell_type": "code",
   "execution_count": null,
   "id": "7fc63397-953b-4db0-87ba-3f17a8df398c",
   "metadata": {},
   "outputs": [],
   "source": [
    "#Why preprocessing?\n",
    "#Standardization is necessary because many ML algorithms (like SVR and Gradient Boosting) are sensitive to feature scales.\n",
    "\n"
   ]
  },
  {
   "cell_type": "code",
   "execution_count": 9,
   "id": "8dcb5f7b-dd8d-49e4-b2c6-e289772972f7",
   "metadata": {},
   "outputs": [],
   "source": [
    "from sklearn.linear_model import LinearRegression\n",
    "from sklearn.tree import DecisionTreeRegressor\n",
    "from sklearn.ensemble import RandomForestRegressor, GradientBoostingRegressor\n",
    "from sklearn.svm import SVR\n",
    "from sklearn.model_selection import train_test_split\n",
    "from sklearn.metrics import mean_squared_error, mean_absolute_error, r2_score\n",
    "\n",
    "# Train-test split\n",
    "X_train, X_test, y_train, y_test = train_test_split(X_scaled, y, test_size=0.2, random_state=42)\n"
   ]
  },
  {
   "cell_type": "code",
   "execution_count": 13,
   "id": "e386937f-c9f1-479d-a3ef-6af9fdcc7d63",
   "metadata": {},
   "outputs": [],
   "source": [
    "lr = LinearRegression()\n",
    "lr.fit(X_train, y_train)\n",
    "y_pred_lr = lr.predict(X_test)\n",
    "\n"
   ]
  },
  {
   "cell_type": "code",
   "execution_count": null,
   "id": "cc835b1f-ec05-447c-b078-82bb548182b2",
   "metadata": {},
   "outputs": [],
   "source": [
    "#Explanation: Assumes linear relationship between features and target."
   ]
  },
  {
   "cell_type": "code",
   "execution_count": 15,
   "id": "98855871-4a5a-410a-96bf-6566c9d2e813",
   "metadata": {},
   "outputs": [],
   "source": [
    "dt = DecisionTreeRegressor(random_state=42)\n",
    "dt.fit(X_train, y_train)\n",
    "y_pred_dt = dt.predict(X_test)\n"
   ]
  },
  {
   "cell_type": "code",
   "execution_count": null,
   "id": "72e1640d-4bfb-4841-bbab-d502c0c56e07",
   "metadata": {},
   "outputs": [],
   "source": [
    "#Explanation: Non-linear model, good for capturing complex relationships."
   ]
  },
  {
   "cell_type": "code",
   "execution_count": 20,
   "id": "f7a743ae-f967-4a1e-bb59-56d5b6f8d8c8",
   "metadata": {},
   "outputs": [],
   "source": [
    "rf = RandomForestRegressor(random_state=42)\n",
    "rf.fit(X_train, y_train)\n",
    "y_pred_rf = rf.predict(X_test)\n"
   ]
  },
  {
   "cell_type": "code",
   "execution_count": null,
   "id": "07995cf9-442b-4e80-830f-204cff3343d5",
   "metadata": {},
   "outputs": [],
   "source": [
    "#Explanation: Ensemble of trees, reduces overfitting, good performance.\n",
    "\n"
   ]
  },
  {
   "cell_type": "code",
   "execution_count": 22,
   "id": "f52afa65-3196-492f-b0fe-b6c24b305d57",
   "metadata": {},
   "outputs": [],
   "source": [
    "gb = GradientBoostingRegressor(random_state=42)\n",
    "gb.fit(X_train, y_train)\n",
    "y_pred_gb = gb.predict(X_test)\n"
   ]
  },
  {
   "cell_type": "code",
   "execution_count": null,
   "id": "ebf5ff30-a74e-48a8-83f9-dabea9d4826f",
   "metadata": {},
   "outputs": [],
   "source": [
    "#Explanation: Boosting model that improves iteratively, good with structured data.\n",
    "\n"
   ]
  },
  {
   "cell_type": "code",
   "execution_count": 24,
   "id": "c45a293c-e378-43c5-9911-71bc2ebb7ca4",
   "metadata": {},
   "outputs": [],
   "source": [
    "svr = SVR()\n",
    "svr.fit(X_train, y_train)\n",
    "y_pred_svr = svr.predict(X_test)\n"
   ]
  },
  {
   "cell_type": "code",
   "execution_count": null,
   "id": "ccf5c9d0-13ef-4316-9bf7-4df2529e9773",
   "metadata": {},
   "outputs": [],
   "source": [
    "#Explanation: Works well on small-to-medium datasets, sensitive to scaling.\n",
    "\n"
   ]
  },
  {
   "cell_type": "code",
   "execution_count": 26,
   "id": "9012352c-cbf5-4735-878f-dfb7e0ec8511",
   "metadata": {},
   "outputs": [
    {
     "name": "stdout",
     "output_type": "stream",
     "text": [
      "--- Linear Regression ---\n",
      "MSE: 0.555891598695244\n",
      "MAE: 0.5332001304956566\n",
      "R²: 0.5757877060324511\n",
      "\n",
      "--- Decision Tree ---\n",
      "MSE: 0.5052210710022044\n",
      "MAE: 0.4562850557170543\n",
      "R²: 0.6144554262132605\n",
      "\n",
      "--- Random Forest ---\n",
      "MSE: 0.25621319799807024\n",
      "MAE: 0.3276279949127909\n",
      "R²: 0.8044784473760151\n",
      "\n",
      "--- Gradient Boosting ---\n",
      "MSE: 0.29399901242474274\n",
      "MAE: 0.37165044848436773\n",
      "R²: 0.7756433164710084\n",
      "\n",
      "--- SVR ---\n",
      "MSE: 0.35519846199894217\n",
      "MAE: 0.39776309634378626\n",
      "R²: 0.7289407597956459\n",
      "\n"
     ]
    }
   ],
   "source": [
    "def evaluate_model(y_test, y_pred, model_name):\n",
    "    print(f\"--- {model_name} ---\")\n",
    "    print(\"MSE:\", mean_squared_error(y_test, y_pred))\n",
    "    print(\"MAE:\", mean_absolute_error(y_test, y_pred))\n",
    "    print(\"R²:\", r2_score(y_test, y_pred))\n",
    "    print()\n",
    "\n",
    "evaluate_model(y_test, y_pred_lr, \"Linear Regression\")\n",
    "evaluate_model(y_test, y_pred_dt, \"Decision Tree\")\n",
    "evaluate_model(y_test, y_pred_rf, \"Random Forest\")\n",
    "evaluate_model(y_test, y_pred_gb, \"Gradient Boosting\")\n",
    "evaluate_model(y_test, y_pred_svr, \"SVR\")\n"
   ]
  },
  {
   "cell_type": "code",
   "execution_count": null,
   "id": "abf96bcc-7b9b-43a9-8d97-3300635c6773",
   "metadata": {},
   "outputs": [],
   "source": [
    "#After evaluating all models, comparison based on accuracy, precision, recall, and F1-score.\n",
    "\n",
    " #Best Performing Algorithm: Likely Random Forest or SVM due to high accuracy and generalization.\n",
    "\n",
    " #Worst Performing Algorithm: Possibly Decision Tree (overfitting) or k-NN (if data is noisy or unbalanced).\n",
    "\n"
   ]
  }
 ],
 "metadata": {
  "kernelspec": {
   "display_name": "Python [conda env:base] *",
   "language": "python",
   "name": "conda-base-py"
  },
  "language_info": {
   "codemirror_mode": {
    "name": "ipython",
    "version": 3
   },
   "file_extension": ".py",
   "mimetype": "text/x-python",
   "name": "python",
   "nbconvert_exporter": "python",
   "pygments_lexer": "ipython3",
   "version": "3.12.7"
  }
 },
 "nbformat": 4,
 "nbformat_minor": 5
}
